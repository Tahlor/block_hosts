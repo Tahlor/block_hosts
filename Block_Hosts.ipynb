{
 "cells": [
  {
   "cell_type": "code",
   "execution_count": 1,
   "metadata": {},
   "outputs": [],
   "source": [
    "# Websites\n",
    "\n",
    "websites = [\"stackexchange.com\"]\n",
    "\n"
   ]
  },
  {
   "cell_type": "code",
   "execution_count": 3,
   "metadata": {},
   "outputs": [
    {
     "data": {
      "text/plain": [
       "'\\ngmail.com\\n\\nfacebook.com\\nfb.com\\nlinkedin.com\\nreddit.com\\nyoutube.com\\n\\nstackexchange.com\\nskeptics.stackexchange.com\\n\\nfidelity.com\\n\\nwsj.com\\nnationalreview.com\\nnews.google.com\\ndrudgereport.com\\nfivethirtyeight.com\\nespn.com\\n\\nhomedepot.com\\nlowes.com\\namazon.com\\nwalmart.com\\n'"
      ]
     },
     "execution_count": 3,
     "metadata": {},
     "output_type": "execute_result"
    }
   ],
   "source": [
    "\"\"\"\n",
    "gmail.com\n",
    "\n",
    "facebook.com\n",
    "fb.com\n",
    "linkedin.com\n",
    "reddit.com\n",
    "youtube.com\n",
    "\n",
    "stackexchange.com\n",
    "skeptics.stackexchange.com\n",
    "\n",
    "fidelity.com\n",
    "\n",
    "wsj.com\n",
    "nationalreview.com\n",
    "news.google.com\n",
    "drudgereport.com\n",
    "fivethirtyeight.com\n",
    "espn.com\n",
    "\n",
    "homedepot.com\n",
    "lowes.com\n",
    "amazon.com\n",
    "walmart.com\n",
    "\"\"\""
   ]
  },
  {
   "cell_type": "code",
   "execution_count": 4,
   "metadata": {},
   "outputs": [
    {
     "name": "stderr",
     "output_type": "stream",
     "text": [
      "usage: ipykernel_launcher.py [-h] [--unblock]\n",
      "ipykernel_launcher.py: error: unrecognized arguments: -f /run/user/1000/jupyter/kernel-894805f4-9341-4076-8a8c-958ed7e30864.json\n"
     ]
    },
    {
     "ename": "SystemExit",
     "evalue": "2",
     "output_type": "error",
     "traceback": [
      "An exception has occurred, use %tb to see the full traceback.\n",
      "\u001b[0;31mSystemExit\u001b[0m\u001b[0;31m:\u001b[0m 2\n"
     ]
    },
    {
     "name": "stderr",
     "output_type": "stream",
     "text": [
      "/home/taylor/anaconda3/envs/hwr5/lib/python3.8/site-packages/IPython/core/interactiveshell.py:3339: UserWarning: To exit: use 'exit', 'quit', or Ctrl-D.\n",
      "  warn(\"To exit: use 'exit', 'quit', or Ctrl-D.\", stacklevel=1)\n"
     ]
    }
   ],
   "source": [
    "from pathlib import Path\n",
    "import argparse\n",
    "\n",
    "suffix = \"\"\"\n",
    "::1     ip6-localhost ip6-loopback\n",
    "fe00::0 ip6-localnet\n",
    "ff00::0 ip6-mcastprefix\n",
    "ff02::1 ip6-allnodes\n",
    "ff02::2 ip6-allrouters\"\"\"\n",
    "\n",
    "def block_sites():\n",
    "    with Path(\"/etc/hosts\").open(\"w\") as f:\n",
    "        for w in websites:\n",
    "            print(w)\n",
    "\n",
    "def unblock_sites():\n",
    "    with Path(\"/etc/hosts\").open(\"w\") as f:\n",
    "        pass\n",
    "   \n",
    "if __name__=='__main__':\n",
    "    parser = argparse.ArgumentParser()\n",
    "    parser.add_argument('--unblock', action=\"store_true\")\n",
    "    opts = parser.parse_args()\n",
    "    \n",
    "    if opts.unblock:\n",
    "        unblock_sites()\n",
    "    else:\n",
    "        block_sites()\n"
   ]
  },
  {
   "cell_type": "code",
   "execution_count": null,
   "metadata": {},
   "outputs": [],
   "source": [
    "2+2"
   ]
  },
  {
   "cell_type": "code",
   "execution_count": null,
   "metadata": {},
   "outputs": [],
   "source": []
  }
 ],
 "metadata": {
  "kernelspec": {
   "display_name": "hwr5",
   "language": "python",
   "name": "hwr5"
  },
  "language_info": {
   "name": ""
  }
 },
 "nbformat": 4,
 "nbformat_minor": 2
}
